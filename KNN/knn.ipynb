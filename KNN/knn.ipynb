{
 "cells": [
  {
   "cell_type": "code",
   "execution_count": 1,
   "metadata": {},
   "outputs": [],
   "source": [
    "import os"
   ]
  },
  {
   "cell_type": "code",
   "execution_count": 2,
   "metadata": {},
   "outputs": [],
   "source": [
    "print(os.listdir())"
   ]
  },
  {
   "cell_type": "code",
   "execution_count": 3,
   "metadata": {},
   "outputs": [],
   "source": [
    "#import libraries\n",
    "import numpy as np\n",
    "import pandas as pd\n",
    "import matplotlib.pyplot as plt"
   ]
  },
  {
   "cell_type": "code",
   "execution_count": 4,
   "metadata": {},
   "outputs": [],
   "source": [
    "data = pd.read_csv('Social_Network_Ads.csv')"
   ]
  },
  {
   "cell_type": "code",
   "execution_count": 5,
   "metadata": {},
   "outputs": [
    {
     "data": {
      "text/html": [
       "<div>\n",
       "<style scoped>\n",
       "    .dataframe tbody tr th:only-of-type {\n",
       "        vertical-align: middle;\n",
       "    }\n",
       "\n",
       "    .dataframe tbody tr th {\n",
       "        vertical-align: top;\n",
       "    }\n",
       "\n",
       "    .dataframe thead th {\n",
       "        text-align: right;\n",
       "    }\n",
       "</style>\n",
       "<table border=\"1\" class=\"dataframe\">\n",
       "  <thead>\n",
       "    <tr style=\"text-align: right;\">\n",
       "      <th></th>\n",
       "      <th>User ID</th>\n",
       "      <th>Gender</th>\n",
       "      <th>Age</th>\n",
       "      <th>EstimatedSalary</th>\n",
       "      <th>Purchased</th>\n",
       "    </tr>\n",
       "  </thead>\n",
       "  <tbody>\n",
       "    <tr>\n",
       "      <th>0</th>\n",
       "      <td>15624510</td>\n",
       "      <td>Male</td>\n",
       "      <td>19</td>\n",
       "      <td>19000</td>\n",
       "      <td>0</td>\n",
       "    </tr>\n",
       "    <tr>\n",
       "      <th>1</th>\n",
       "      <td>15810944</td>\n",
       "      <td>Male</td>\n",
       "      <td>35</td>\n",
       "      <td>20000</td>\n",
       "      <td>0</td>\n",
       "    </tr>\n",
       "    <tr>\n",
       "      <th>2</th>\n",
       "      <td>15668575</td>\n",
       "      <td>Female</td>\n",
       "      <td>26</td>\n",
       "      <td>43000</td>\n",
       "      <td>0</td>\n",
       "    </tr>\n",
       "    <tr>\n",
       "      <th>3</th>\n",
       "      <td>15603246</td>\n",
       "      <td>Female</td>\n",
       "      <td>27</td>\n",
       "      <td>57000</td>\n",
       "      <td>0</td>\n",
       "    </tr>\n",
       "    <tr>\n",
       "      <th>4</th>\n",
       "      <td>15804002</td>\n",
       "      <td>Male</td>\n",
       "      <td>19</td>\n",
       "      <td>76000</td>\n",
       "      <td>0</td>\n",
       "    </tr>\n",
       "    <tr>\n",
       "      <th>5</th>\n",
       "      <td>15728773</td>\n",
       "      <td>Male</td>\n",
       "      <td>27</td>\n",
       "      <td>58000</td>\n",
       "      <td>0</td>\n",
       "    </tr>\n",
       "    <tr>\n",
       "      <th>6</th>\n",
       "      <td>15598044</td>\n",
       "      <td>Female</td>\n",
       "      <td>27</td>\n",
       "      <td>84000</td>\n",
       "      <td>0</td>\n",
       "    </tr>\n",
       "    <tr>\n",
       "      <th>7</th>\n",
       "      <td>15694829</td>\n",
       "      <td>Female</td>\n",
       "      <td>32</td>\n",
       "      <td>150000</td>\n",
       "      <td>1</td>\n",
       "    </tr>\n",
       "    <tr>\n",
       "      <th>8</th>\n",
       "      <td>15600575</td>\n",
       "      <td>Male</td>\n",
       "      <td>25</td>\n",
       "      <td>33000</td>\n",
       "      <td>0</td>\n",
       "    </tr>\n",
       "    <tr>\n",
       "      <th>9</th>\n",
       "      <td>15727311</td>\n",
       "      <td>Female</td>\n",
       "      <td>35</td>\n",
       "      <td>65000</td>\n",
       "      <td>0</td>\n",
       "    </tr>\n",
       "  </tbody>\n",
       "</table>\n",
       "</div>"
      ],
      "text/plain": [
       "    User ID  Gender  Age  EstimatedSalary  Purchased\n",
       "0  15624510    Male   19            19000          0\n",
       "1  15810944    Male   35            20000          0\n",
       "2  15668575  Female   26            43000          0\n",
       "3  15603246  Female   27            57000          0\n",
       "4  15804002    Male   19            76000          0\n",
       "5  15728773    Male   27            58000          0\n",
       "6  15598044  Female   27            84000          0\n",
       "7  15694829  Female   32           150000          1\n",
       "8  15600575    Male   25            33000          0\n",
       "9  15727311  Female   35            65000          0"
      ]
     },
     "execution_count": 5,
     "metadata": {},
     "output_type": "execute_result"
    }
   ],
   "source": [
    "data.head(10)"
   ]
  },
  {
   "cell_type": "code",
   "execution_count": 6,
   "metadata": {},
   "outputs": [
    {
     "name": "stdout",
     "output_type": "stream",
     "text": [
      "<class 'pandas.core.frame.DataFrame'>\n",
      "RangeIndex: 400 entries, 0 to 399\n",
      "Data columns (total 5 columns):\n",
      "User ID            400 non-null int64\n",
      "Gender             400 non-null object\n",
      "Age                400 non-null int64\n",
      "EstimatedSalary    400 non-null int64\n",
      "Purchased          400 non-null int64\n",
      "dtypes: int64(4), object(1)\n",
      "memory usage: 15.7+ KB\n"
     ]
    }
   ],
   "source": [
    "data.info()"
   ]
  },
  {
   "cell_type": "code",
   "execution_count": 7,
   "metadata": {},
   "outputs": [],
   "source": [
    "# split your dataset\n",
    "X = data.iloc[:, [2,3]].values\n",
    "y = data.iloc[:, 4].values"
   ]
  },
  {
   "cell_type": "code",
   "execution_count": 8,
   "metadata": {},
   "outputs": [
    {
     "data": {
      "text/plain": [
       "array([0, 0, 0, 0, 0, 0, 0, 1, 0, 0, 0, 0, 0, 0, 0, 0, 1, 1, 1, 1, 1, 1,\n",
       "       1, 1, 1, 1, 1, 1, 0, 0, 0, 1, 0, 0, 0, 0, 0, 0, 0, 0, 0, 0, 0, 0,\n",
       "       0, 0, 0, 0, 1, 0, 0, 0, 0, 0, 0, 0, 0, 0, 0, 0, 0, 0, 0, 1, 0, 0,\n",
       "       0, 0, 0, 0, 0, 0, 0, 0, 0, 1, 0, 0, 0, 0, 0, 0, 0, 0, 0, 1, 0, 0,\n",
       "       0, 0, 0, 0, 0, 0, 0, 0, 0, 1, 0, 0, 0, 0, 0, 1, 0, 0, 0, 0, 0, 0,\n",
       "       0, 0, 0, 0, 0, 0, 0, 0, 0, 0, 0, 0, 0, 0, 0, 0, 0, 0, 0, 0, 0, 0,\n",
       "       0, 0, 0, 0, 0, 1, 0, 0, 0, 0, 0, 0, 0, 0, 1, 0, 0, 0, 0, 0, 0, 0,\n",
       "       0, 0, 0, 0, 0, 1, 1, 0, 0, 0, 0, 0, 0, 0, 1, 0, 0, 0, 0, 0, 0, 0,\n",
       "       0, 0, 0, 0, 0, 0, 1, 0, 0, 0, 0, 0, 0, 0, 0, 0, 0, 0, 0, 0, 0, 0,\n",
       "       0, 0, 0, 0, 1, 0, 1, 0, 1, 0, 1, 0, 1, 1, 0, 0, 0, 1, 0, 0, 0, 1,\n",
       "       0, 1, 1, 1, 0, 0, 1, 1, 0, 1, 1, 0, 1, 1, 0, 1, 0, 0, 0, 1, 1, 0,\n",
       "       1, 1, 0, 1, 0, 1, 0, 1, 0, 0, 1, 1, 0, 1, 0, 0, 1, 1, 0, 1, 1, 0,\n",
       "       1, 1, 0, 0, 1, 0, 0, 1, 1, 1, 1, 1, 0, 1, 1, 1, 1, 0, 1, 1, 0, 1,\n",
       "       0, 1, 0, 1, 1, 1, 1, 0, 0, 0, 1, 1, 0, 1, 1, 1, 1, 1, 0, 0, 0, 1,\n",
       "       1, 0, 0, 1, 0, 1, 0, 1, 1, 0, 1, 0, 1, 1, 0, 1, 1, 0, 0, 0, 1, 1,\n",
       "       0, 1, 0, 0, 1, 0, 1, 0, 0, 1, 1, 0, 0, 1, 1, 0, 1, 1, 0, 0, 1, 0,\n",
       "       1, 0, 1, 1, 1, 0, 1, 0, 1, 1, 1, 0, 1, 1, 1, 1, 0, 1, 1, 1, 0, 1,\n",
       "       0, 1, 0, 0, 1, 1, 0, 1, 1, 1, 1, 1, 1, 0, 1, 1, 1, 1, 1, 1, 0, 1,\n",
       "       1, 1, 0, 1])"
      ]
     },
     "execution_count": 8,
     "metadata": {},
     "output_type": "execute_result"
    }
   ],
   "source": [
    "y"
   ]
  },
  {
   "cell_type": "code",
   "execution_count": 9,
   "metadata": {},
   "outputs": [],
   "source": [
    "#prepare data for test and training\n",
    "from sklearn.model_selection import train_test_split"
   ]
  },
  {
   "cell_type": "code",
   "execution_count": 10,
   "metadata": {},
   "outputs": [],
   "source": [
    "X_train, X_test, y_train, y_test = train_test_split(X, y, test_size=0.2)"
   ]
  },
  {
   "cell_type": "code",
   "execution_count": 11,
   "metadata": {},
   "outputs": [
    {
     "data": {
      "text/plain": [
       "array([1, 0, 0, 0, 0, 1, 0, 1, 0, 0, 0, 1, 0, 0, 0, 1, 0, 0, 0, 0, 0, 0,\n",
       "       0, 0, 0, 1, 0, 0, 0, 0, 0, 0, 1, 0, 0, 0, 0, 0, 1, 0, 1, 0, 1, 0,\n",
       "       1, 0, 1, 0, 1, 0, 0, 0, 0, 1, 0, 1, 1, 0, 0, 1, 1, 0, 1, 0, 0, 0,\n",
       "       1, 0, 1, 0, 0, 1, 1, 0, 1, 0, 0, 1, 1, 0])"
      ]
     },
     "execution_count": 11,
     "metadata": {},
     "output_type": "execute_result"
    }
   ],
   "source": [
    "y_test"
   ]
  },
  {
   "cell_type": "code",
   "execution_count": 12,
   "metadata": {},
   "outputs": [
    {
     "data": {
      "text/plain": [
       "array([[    31, 118000],\n",
       "       [    38,  55000],\n",
       "       [    19,  26000],\n",
       "       [    32,  18000],\n",
       "       [    27,  54000],\n",
       "       [    56, 104000],\n",
       "       [    48, 141000],\n",
       "       [    32, 120000],\n",
       "       [    38,  61000],\n",
       "       [    26, 118000],\n",
       "       [    36,  50000],\n",
       "       [    42,  80000],\n",
       "       [    24,  32000],\n",
       "       [    41,  60000],\n",
       "       [    24,  27000],\n",
       "       [    32, 117000],\n",
       "       [    40,  75000],\n",
       "       [    40,  47000],\n",
       "       [    25,  22000],\n",
       "       [    28,  44000],\n",
       "       [    41,  63000],\n",
       "       [    59,  83000],\n",
       "       [    42,  70000],\n",
       "       [    34, 115000],\n",
       "       [    29,  43000],\n",
       "       [    59, 143000],\n",
       "       [    41,  45000],\n",
       "       [    30, 116000],\n",
       "       [    35,  75000],\n",
       "       [    30,  15000],\n",
       "       [    18,  86000],\n",
       "       [    40,  65000],\n",
       "       [    40, 107000],\n",
       "       [    30,  62000],\n",
       "       [    35,  60000],\n",
       "       [    26,  16000],\n",
       "       [    39,  59000],\n",
       "       [    32,  18000],\n",
       "       [    55,  39000],\n",
       "       [    33,  69000],\n",
       "       [    27, 137000],\n",
       "       [    22,  18000],\n",
       "       [    46,  88000],\n",
       "       [    26,  52000],\n",
       "       [    45,  32000],\n",
       "       [    18,  52000],\n",
       "       [    46,  28000],\n",
       "       [    35,  73000],\n",
       "       [    37,  70000],\n",
       "       [    29,  83000],\n",
       "       [    35,  58000],\n",
       "       [    40,  61000],\n",
       "       [    40,  57000],\n",
       "       [    36, 126000],\n",
       "       [    24,  55000],\n",
       "       [    37, 137000],\n",
       "       [    53,  82000],\n",
       "       [    31,  66000],\n",
       "       [    24,  55000],\n",
       "       [    57,  33000],\n",
       "       [    32, 135000],\n",
       "       [    28,  59000],\n",
       "       [    46,  32000],\n",
       "       [    27,  88000],\n",
       "       [    41,  72000],\n",
       "       [    46,  74000],\n",
       "       [    48, 119000],\n",
       "       [    28,  87000],\n",
       "       [    35,  97000],\n",
       "       [    41,  79000],\n",
       "       [    30,  49000],\n",
       "       [    47,  25000],\n",
       "       [    56,  60000],\n",
       "       [    42,  79000],\n",
       "       [    45,  26000],\n",
       "       [    50,  44000],\n",
       "       [    46,  22000],\n",
       "       [    60,  34000],\n",
       "       [    45,  45000],\n",
       "       [    37,  57000]])"
      ]
     },
     "execution_count": 12,
     "metadata": {},
     "output_type": "execute_result"
    }
   ],
   "source": [
    "X_test"
   ]
  },
  {
   "cell_type": "code",
   "execution_count": 13,
   "metadata": {},
   "outputs": [
    {
     "name": "stderr",
     "output_type": "stream",
     "text": [
      "/Users/studio/anaconda3/lib/python3.6/site-packages/sklearn/utils/validation.py:475: DataConversionWarning: Data with input dtype int64 was converted to float64 by StandardScaler.\n",
      "  warnings.warn(msg, DataConversionWarning)\n"
     ]
    }
   ],
   "source": [
    "#Feature scaling\n",
    "from sklearn.preprocessing import StandardScaler\n",
    "sc = StandardScaler()\n",
    "X_train = sc.fit_transform(X_train)\n",
    "X_test = sc.transform(X_test)"
   ]
  },
  {
   "cell_type": "code",
   "execution_count": 14,
   "metadata": {},
   "outputs": [
    {
     "data": {
      "text/plain": [
       "array([[-1.21173403,  0.28100535],\n",
       "       [ 1.34364357, -1.4488222 ],\n",
       "       [ 1.34364357,  2.33334313],\n",
       "       [ 0.01863296,  0.01713336],\n",
       "       [ 0.01863296,  0.28100535],\n",
       "       [-0.26529788,  0.19304802],\n",
       "       [ 0.01863296, -0.15878131],\n",
       "       [-0.54922873,  0.86738758],\n",
       "       [-1.77959573, -1.33154575],\n",
       "       [ 0.39720742,  2.30402402],\n",
       "       [-0.07601065,  0.19304802],\n",
       "       [ 2.00614888,  0.51555824],\n",
       "       [-0.3599415 , -0.80380175],\n",
       "       [ 0.11327658,  0.1344098 ],\n",
       "       [-0.83315957,  0.28100535],\n",
       "       [ 2.00614888,  0.16372891],\n",
       "       [ 0.58649465,  2.01083291],\n",
       "       [-0.64387234,  0.01713336],\n",
       "       [-0.07601065,  0.01713336],\n",
       "       [ 1.43828719, -1.06767375],\n",
       "       [ 0.20792019,  0.01713336],\n",
       "       [ 0.11327658,  0.01713336],\n",
       "       [-0.26529788, -0.59856798],\n",
       "       [ 1.43828719,  0.98466402],\n",
       "       [-0.07601065,  0.6621538 ],\n",
       "       [-0.64387234, -0.07082398],\n",
       "       [-1.11709042,  0.04645247],\n",
       "       [-0.07601065,  0.28100535],\n",
       "       [ 0.11327658,  1.86423735],\n",
       "       [-0.45458511, -0.56924887],\n",
       "       [ 1.5329308 , -1.30222664],\n",
       "       [ 0.39720742, -0.48129153],\n",
       "       [-1.5903085 ,  0.04645247],\n",
       "       [-1.87423934, -0.77448264],\n",
       "       [-0.26529788, -0.45197242],\n",
       "       [-0.92780319, -0.33469598],\n",
       "       [ 1.24899996,  2.21606668],\n",
       "       [-0.3599415 , -0.80380175],\n",
       "       [ 1.62757442,  1.74696091],\n",
       "       [-1.5903085 , -1.59541775],\n",
       "       [ 1.24899996, -1.39018397],\n",
       "       [-0.83315957,  0.36896269],\n",
       "       [ 0.20792019,  0.04645247],\n",
       "       [-1.21173403, -1.09699286],\n",
       "       [-0.17065427, -0.48129153],\n",
       "       [ 0.39720742,  0.28100535],\n",
       "       [-0.26529788,  1.10194046],\n",
       "       [ 0.01863296, -0.33469598],\n",
       "       [-1.11709042, -1.62473686],\n",
       "       [-1.68495211,  0.33964358],\n",
       "       [-0.17065427, -1.09699286],\n",
       "       [-0.73851596,  0.54487735],\n",
       "       [ 0.20792019,  0.22236713],\n",
       "       [-0.92780319,  0.42760091],\n",
       "       [-1.68495211, -0.62788709],\n",
       "       [-0.73851596,  0.48623913],\n",
       "       [-1.0224468 , -1.56609864],\n",
       "       [ 0.30256381, -1.1849502 ],\n",
       "       [-0.17065427,  0.83806846],\n",
       "       [-0.26529788,  0.04645247],\n",
       "       [ 0.96506911,  0.75011113],\n",
       "       [-0.64387234, -0.36401509],\n",
       "       [ 0.96506911, -1.09699286],\n",
       "       [ 0.30256381, -0.33469598],\n",
       "       [-0.83315957,  2.27470491],\n",
       "       [ 1.15435634, -1.00903553],\n",
       "       [ 0.11327658,  1.04330224],\n",
       "       [ 0.30256381,  0.04645247],\n",
       "       [-0.83315957, -0.27605775],\n",
       "       [-1.77959573, -1.50746042],\n",
       "       [ 2.00614888,  1.74696091],\n",
       "       [-1.11709042,  0.31032447],\n",
       "       [-1.68495211,  0.33964358],\n",
       "       [-1.11709042,  0.28100535],\n",
       "       [ 1.81686165,  0.10509069],\n",
       "       [ 0.20792019,  0.1344098 ],\n",
       "       [-1.21173403,  0.25168624],\n",
       "       [ 2.00614888, -1.21426931],\n",
       "       [-1.68495211,  0.10509069],\n",
       "       [-0.92780319,  0.3982818 ],\n",
       "       [-0.07601065, -0.51061064],\n",
       "       [-0.07601065,  0.1344098 ],\n",
       "       [ 0.49185104,  1.83491824],\n",
       "       [ 0.77578188,  0.25168624],\n",
       "       [-1.0224468 , -0.36401509],\n",
       "       [ 0.11327658,  0.19304802],\n",
       "       [ 0.8704255 , -1.47814131],\n",
       "       [ 0.68113827,  0.25168624],\n",
       "       [-0.17065427,  0.1344098 ],\n",
       "       [-1.21173403,  0.48623913],\n",
       "       [-0.73851596, -1.56609864],\n",
       "       [-0.17065427,  2.15742846],\n",
       "       [-1.11709042, -1.56609864],\n",
       "       [ 0.30256381, -0.53992975],\n",
       "       [ 1.72221803,  1.83491824],\n",
       "       [ 1.34364357, -0.95039731],\n",
       "       [ 0.77578188, -0.86243998],\n",
       "       [-0.17065427, -0.30537687],\n",
       "       [-0.26529788, -0.15878131],\n",
       "       [-1.11709042,  0.3982818 ],\n",
       "       [ 0.96506911, -0.86243998],\n",
       "       [-0.45458511, -0.86243998],\n",
       "       [ 0.30256381, -0.53992975],\n",
       "       [ 0.30256381,  0.04645247],\n",
       "       [-0.26529788, -1.39018397],\n",
       "       [-0.45458511, -1.24358842],\n",
       "       [ 0.8704255 , -0.59856798],\n",
       "       [-1.11709042, -0.80380175],\n",
       "       [-1.49566488, -0.45197242],\n",
       "       [-1.87423934,  0.33964358],\n",
       "       [ 1.91150526, -0.95039731],\n",
       "       [ 2.00614888, -0.83312086],\n",
       "       [-0.26529788, -0.68652531],\n",
       "       [-1.68495211, -1.39018397],\n",
       "       [ 0.96506911, -1.21426931],\n",
       "       [ 1.81686165,  1.51240802],\n",
       "       [-1.77959573, -0.01218576],\n",
       "       [ 1.43828719,  2.12810935],\n",
       "       [-0.26529788, -1.47814131],\n",
       "       [-0.26529788, -1.41950309],\n",
       "       [-1.0224468 , -0.36401509],\n",
       "       [ 1.91150526, -1.39018397],\n",
       "       [ 0.68113827, -1.41950309],\n",
       "       [-0.26529788, -0.59856798],\n",
       "       [-0.83315957, -1.24358842],\n",
       "       [-0.92780319, -0.45197242],\n",
       "       [ 0.11327658,  1.51240802],\n",
       "       [-1.40102127, -1.47814131],\n",
       "       [-1.49566488, -1.27290753],\n",
       "       [ 0.20792019, -0.30537687],\n",
       "       [-1.5903085 ,  0.51555824],\n",
       "       [ 0.49185104,  1.7176418 ],\n",
       "       [ 1.05971273,  0.10509069],\n",
       "       [-0.26529788,  0.04645247],\n",
       "       [-0.45458511,  2.30402402],\n",
       "       [-0.73851596,  0.28100535],\n",
       "       [ 0.11327658, -0.83312086],\n",
       "       [ 1.05971273, -1.00903553],\n",
       "       [-0.54922873,  0.45692002],\n",
       "       [-0.17065427, -0.21741953],\n",
       "       [ 2.10079249,  1.10194046],\n",
       "       [-0.17065427, -0.53992975],\n",
       "       [ 0.30256381,  0.48623913],\n",
       "       [-1.77959573, -1.4488222 ],\n",
       "       [-0.26529788, -0.95039731],\n",
       "       [-0.17065427,  1.39513157],\n",
       "       [-0.26529788,  0.51555824],\n",
       "       [-0.26529788, -0.3933342 ],\n",
       "       [-0.3599415 ,  0.04645247],\n",
       "       [ 1.15435634,  0.51555824],\n",
       "       [-1.21173403,  0.57419647],\n",
       "       [-0.26529788, -1.33154575],\n",
       "       [ 0.39720742, -0.48129153],\n",
       "       [-1.87423934, -0.07082398],\n",
       "       [ 0.8704255 , -1.39018397],\n",
       "       [ 1.05971273,  0.54487735],\n",
       "       [-1.30637765,  0.3982818 ],\n",
       "       [ 0.20792019, -0.33469598],\n",
       "       [-0.64387234,  0.16372891],\n",
       "       [-1.40102127,  0.33964358],\n",
       "       [-1.30637765, -1.39018397],\n",
       "       [ 0.20792019, -0.3933342 ],\n",
       "       [ 1.34364357,  1.27785513],\n",
       "       [-1.40102127, -0.21741953],\n",
       "       [ 0.8704255 , -0.62788709],\n",
       "       [-0.45458511, -0.30537687],\n",
       "       [-0.54922873,  2.33334313],\n",
       "       [ 0.39720742, -0.15878131],\n",
       "       [ 2.10079249, -0.71584442],\n",
       "       [-0.26529788, -1.27290753],\n",
       "       [ 2.10079249, -0.83312086],\n",
       "       [ 0.30256381,  0.28100535],\n",
       "       [-0.07601065, -1.09699286],\n",
       "       [ 1.81686165, -0.30537687],\n",
       "       [ 0.39720742, -0.18810042],\n",
       "       [-1.77959573,  0.16372891],\n",
       "       [-1.5903085 , -0.07082398],\n",
       "       [-0.92780319,  1.54172713],\n",
       "       [-0.17065427,  1.60036535],\n",
       "       [-1.68495211, -1.00903553],\n",
       "       [-0.92780319, -1.12631197],\n",
       "       [ 0.8704255 ,  1.01398313],\n",
       "       [-1.11709042, -1.62473686],\n",
       "       [ 1.91150526,  0.72079202],\n",
       "       [-0.3599415 , -1.33154575],\n",
       "       [-0.26529788,  0.60351558],\n",
       "       [-0.3599415 ,  1.21921691],\n",
       "       [ 1.5329308 , -0.01218576],\n",
       "       [-1.0224468 , -0.3933342 ],\n",
       "       [ 0.8704255 , -1.1849502 ],\n",
       "       [ 0.01863296,  1.24853602],\n",
       "       [-0.26529788,  0.01713336],\n",
       "       [-1.68495211,  0.45692002],\n",
       "       [ 0.01863296, -0.59856798],\n",
       "       [-1.40102127, -1.24358842],\n",
       "       [ 0.20792019,  2.09879024],\n",
       "       [ 0.01863296,  1.21921691],\n",
       "       [ 0.77578188,  1.36581246],\n",
       "       [ 0.8704255 , -0.80380175],\n",
       "       [ 0.39720742,  0.1344098 ],\n",
       "       [ 0.58649465, -0.9210782 ],\n",
       "       [-1.0224468 ,  0.57419647],\n",
       "       [-0.92780319, -0.97971642],\n",
       "       [-1.11709042,  0.28100535],\n",
       "       [-0.26529788, -0.9210782 ],\n",
       "       [ 0.96506911, -1.03835464],\n",
       "       [-1.49566488, -0.21741953],\n",
       "       [-1.0224468 ,  0.3982818 ],\n",
       "       [-0.07601065,  0.22236713],\n",
       "       [ 1.05971273,  0.51555824],\n",
       "       [-0.26529788, -0.33469598],\n",
       "       [-0.73851596,  1.89355646],\n",
       "       [ 0.96506911, -1.09699286],\n",
       "       [ 1.05971273, -1.24358842],\n",
       "       [ 1.5329308 ,  0.98466402],\n",
       "       [-0.07601065,  0.10509069],\n",
       "       [-0.45458511,  1.24853602],\n",
       "       [ 0.77578188, -1.39018397],\n",
       "       [ 2.10079249,  0.9260258 ],\n",
       "       [-0.07601065,  0.04645247],\n",
       "       [-1.0224468 ,  0.75011113],\n",
       "       [ 0.20792019, -0.3933342 ],\n",
       "       [ 0.39720742,  0.98466402],\n",
       "       [-0.64387234, -1.06767375],\n",
       "       [-0.92780319,  0.25168624],\n",
       "       [-0.07601065, -0.53992975],\n",
       "       [-1.0224468 ,  0.54487735],\n",
       "       [ 0.8704255 , -1.06767375],\n",
       "       [ 1.05971273, -0.15878131],\n",
       "       [ 2.10079249,  0.36896269],\n",
       "       [ 0.39720742,  0.57419647],\n",
       "       [ 0.11327658,  0.75011113],\n",
       "       [ 0.11327658,  0.01713336],\n",
       "       [-0.26529788,  0.1344098 ],\n",
       "       [-0.07601065,  2.15742846],\n",
       "       [ 2.10079249, -0.83312086],\n",
       "       [-1.11709042, -1.03835464],\n",
       "       [ 1.05971273, -0.9210782 ],\n",
       "       [ 0.68113827,  1.77628002],\n",
       "       [ 0.8704255 , -0.68652531],\n",
       "       [ 0.11327658,  0.25168624],\n",
       "       [ 0.96506911,  1.9815138 ],\n",
       "       [ 0.96506911,  1.86423735],\n",
       "       [-0.07601065,  0.28100535],\n",
       "       [ 0.39720742, -0.15878131],\n",
       "       [-1.11709042,  0.45692002],\n",
       "       [ 0.01863296, -0.27605775],\n",
       "       [ 0.77578188, -0.33469598],\n",
       "       [ 0.96506911,  0.10509069],\n",
       "       [-0.07601065,  0.25168624],\n",
       "       [-1.0224468 , -1.15563109],\n",
       "       [-0.83315957,  0.1344098 ],\n",
       "       [-0.26529788, -0.77448264],\n",
       "       [ 0.8704255 , -0.56924887],\n",
       "       [ 1.05971273, -1.24358842],\n",
       "       [ 0.68113827, -1.41950309],\n",
       "       [ 0.11327658, -0.83312086],\n",
       "       [ 1.91150526, -0.68652531],\n",
       "       [ 1.34364357,  0.57419647],\n",
       "       [-0.45458511, -0.80380175],\n",
       "       [ 0.11327658,  0.07577158],\n",
       "       [ 1.91150526,  2.15742846],\n",
       "       [ 0.8704255 ,  1.07262135],\n",
       "       [ 0.30256381,  0.01713336],\n",
       "       [-1.40102127, -0.1294622 ],\n",
       "       [-1.30637765,  0.54487735],\n",
       "       [ 1.62757442,  1.60036535],\n",
       "       [-1.30637765, -0.36401509],\n",
       "       [ 0.39720742,  0.07577158],\n",
       "       [ 0.96506911,  1.77628002],\n",
       "       [ 0.77578188,  0.33964358],\n",
       "       [ 1.91150526,  0.89670669],\n",
       "       [ 0.30256381, -0.56924887],\n",
       "       [ 0.8704255 ,  1.24853602],\n",
       "       [ 0.96506911,  0.57419647],\n",
       "       [ 1.81686165, -1.30222664],\n",
       "       [-1.40102127, -0.6572062 ],\n",
       "       [ 0.49185104,  1.21921691],\n",
       "       [ 0.8704255 ,  2.15742846],\n",
       "       [-0.64387234, -1.62473686],\n",
       "       [ 1.5329308 ,  1.10194046],\n",
       "       [-0.26529788,  0.25168624],\n",
       "       [-1.11709042, -1.12631197],\n",
       "       [-0.83315957, -0.68652531],\n",
       "       [ 0.11327658, -0.27605775],\n",
       "       [ 1.34364357,  1.9815138 ],\n",
       "       [ 0.01863296, -0.56924887],\n",
       "       [-0.07601065, -0.45197242],\n",
       "       [-1.77959573,  0.42760091],\n",
       "       [ 0.01863296,  0.01713336],\n",
       "       [ 0.39720742, -0.51061064],\n",
       "       [-0.26529788, -0.27605775],\n",
       "       [-0.54922873,  1.36581246],\n",
       "       [-0.26529788,  2.24538579],\n",
       "       [-0.64387234, -1.53677953],\n",
       "       [ 1.05971273,  0.45692002],\n",
       "       [ 0.39720742,  1.10194046],\n",
       "       [-0.83315957, -0.80380175],\n",
       "       [-0.73851596,  1.07262135],\n",
       "       [-1.30637765, -1.50746042],\n",
       "       [-0.92780319,  0.54487735],\n",
       "       [ 0.77578188,  0.75011113],\n",
       "       [ 0.30256381,  0.04645247],\n",
       "       [ 1.15435634, -1.47814131],\n",
       "       [ 1.43828719,  0.04645247],\n",
       "       [-0.07601065, -0.24673864],\n",
       "       [-0.07601065,  2.21606668],\n",
       "       [-1.11709042, -1.1849502 ],\n",
       "       [ 0.01863296, -0.59856798],\n",
       "       [-0.73851596,  0.25168624],\n",
       "       [ 1.24899996,  1.86423735],\n",
       "       [-1.49566488,  0.31032447],\n",
       "       [-0.26529788, -0.51061064],\n",
       "       [-0.45458511, -1.15563109],\n",
       "       [ 1.05971273,  2.06947113],\n",
       "       [ 0.11327658,  1.86423735],\n",
       "       [-0.64387234,  0.54487735],\n",
       "       [-1.0224468 , -1.47814131],\n",
       "       [-0.64387234,  0.10509069],\n",
       "       [ 0.96506911, -1.1849502 ]])"
      ]
     },
     "execution_count": 14,
     "metadata": {},
     "output_type": "execute_result"
    }
   ],
   "source": [
    "X_train"
   ]
  },
  {
   "cell_type": "code",
   "execution_count": 15,
   "metadata": {},
   "outputs": [],
   "source": [
    "#Move to KNN algorithm\n",
    "from sklearn.neighbors import KNeighborsClassifier\n"
   ]
  },
  {
   "cell_type": "code",
   "execution_count": 16,
   "metadata": {},
   "outputs": [
    {
     "data": {
      "text/plain": [
       "KNeighborsClassifier(algorithm='auto', leaf_size=30, metric='minkowski',\n",
       "           metric_params=None, n_jobs=1, n_neighbors=5, p=2,\n",
       "           weights='uniform')"
      ]
     },
     "execution_count": 16,
     "metadata": {},
     "output_type": "execute_result"
    }
   ],
   "source": [
    "classifier = KNeighborsClassifier(n_neighbors=5, p=2, metric='minkowski')\n",
    "classifier.fit(X_train, y_train)"
   ]
  },
  {
   "cell_type": "code",
   "execution_count": 17,
   "metadata": {},
   "outputs": [],
   "source": [
    "#get your predictor\n",
    "y_predictor = classifier.predict(X_test)"
   ]
  },
  {
   "cell_type": "code",
   "execution_count": 18,
   "metadata": {},
   "outputs": [
    {
     "data": {
      "text/plain": [
       "array([1, 0, 0, 0, 0, 1, 1, 1, 0, 1, 0, 0, 0, 0, 0, 1, 0, 0, 0, 0, 0, 1,\n",
       "       0, 0, 0, 1, 0, 1, 0, 0, 0, 0, 1, 0, 0, 0, 0, 0, 1, 0, 1, 0, 0, 0,\n",
       "       1, 0, 1, 0, 0, 0, 0, 0, 0, 1, 0, 1, 1, 0, 0, 1, 1, 0, 1, 0, 0, 0,\n",
       "       1, 0, 1, 0, 0, 1, 1, 0, 1, 1, 1, 1, 0, 0])"
      ]
     },
     "execution_count": 18,
     "metadata": {},
     "output_type": "execute_result"
    }
   ],
   "source": [
    "y_predictor"
   ]
  },
  {
   "cell_type": "code",
   "execution_count": 19,
   "metadata": {},
   "outputs": [],
   "source": [
    "#In classifiers, you will be creating a confusion matrix a lot\n",
    "from sklearn.metrics import confusion_matrix\n",
    "cm = confusion_matrix(y_test, y_predictor)"
   ]
  },
  {
   "cell_type": "code",
   "execution_count": 20,
   "metadata": {},
   "outputs": [],
   "source": [
    "%matplotlib inline"
   ]
  },
  {
   "cell_type": "code",
   "execution_count": 21,
   "metadata": {},
   "outputs": [],
   "source": [
    "#for plotting a graph "
   ]
  },
  {
   "cell_type": "code",
   "execution_count": 22,
   "metadata": {},
   "outputs": [
    {
     "data": {
      "text/plain": [
       "<matplotlib.legend.Legend at 0x10c4871d0>"
      ]
     },
     "execution_count": 22,
     "metadata": {},
     "output_type": "execute_result"
    },
    {
     "data": {
      "image/png": "[encoded data removed]",
      "text/plain": [
       "<matplotlib.figure.Figure at 0x1a12b70b70>"
      ]
     },
     "metadata": {},
     "output_type": "display_data"
    }
   ],
   "source": [
    "from matplotlib.colors import ListedColormap\n",
    "X_point, y_point = X_train, y_train\n",
    "X1, X2 = np.meshgrid(np.arange(start = X_point[:, 0].min() - 1, stop = X_point[:, 0].max() + 1, step = 0.01),\n",
    "                     np.arange(start = X_point[:, 1].min() - 1, stop = X_point[:, 1].max() + 1, step = 0.01))\n",
    "plt.contourf(X1, X2, classifier.predict(np.array([X1.ravel(), X2.ravel()]).T).reshape(X1.shape),\n",
    "             alpha = 0.75, cmap = ListedColormap(('green', 'blue')))\n",
    "plt.xlim(X1.min(), X1.max())\n",
    "plt.ylim(X2.min(), X2.max())\n",
    "for i, j in enumerate(np.unique(y_point)):\n",
    "    plt.scatter(X_point[y_point == j, 0], X_point[y_point == j, 1],\n",
    "                c = ListedColormap(('green', 'blue'))(i), label = j)\n",
    "plt.title('K-NN Training set')\n",
    "plt.xlabel('Age')\n",
    "plt.ylabel('Salary')\n",
    "plt.legend()"
   ]
  },
  {
   "cell_type": "code",
   "execution_count": 23,
   "metadata": {},
   "outputs": [
    {
     "data": {
      "text/plain": [
       "<matplotlib.legend.Legend at 0x1a21046ba8>"
      ]
     },
     "execution_count": 23,
     "metadata": {},
     "output_type": "execute_result"
    },
    {
     "data": {
      "image/png": "[encoded data removed]",
      "text/plain": [
       "<matplotlib.figure.Figure at 0x1a21091710>"
      ]
     },
     "metadata": {},
     "output_type": "display_data"
    }
   ],
   "source": [
    "X_point, y_point = X_test, y_test\n",
    "X1, X2 = np.meshgrid(np.arange(start = X_point[:, 0].min() - 1, stop = X_point[:, 0].max() + 1, step = 0.01),\n",
    "                     np.arange(start = X_point[:, 1].min() - 1, stop = X_point[:, 1].max() + 1, step = 0.01))\n",
    "plt.contourf(X1, X2, classifier.predict(np.array([X1.ravel(), X2.ravel()]).T).reshape(X1.shape),\n",
    "             alpha = 0.75, cmap = ListedColormap(('green', 'blue')))\n",
    "plt.xlim(X1.min(), X1.max())\n",
    "plt.ylim(X2.min(), X2.max())\n",
    "for i, j in enumerate(np.unique(y_point)):\n",
    "    plt.scatter(X_point[y_point == j, 0], X_point[y_point == j, 1],\n",
    "                c = ListedColormap(('green', 'blue'))(i), label = j)\n",
    "plt.title('K-NN Training set')\n",
    "plt.xlabel('Age')\n",
    "plt.ylabel('Salary')\n",
    "plt.legend()"
   ]
  },
  {
   "cell_type": "code",
   "execution_count": null,
   "metadata": {},
   "outputs": [],
   "source": []
  }
 ],
 "metadata": {
  "kernelspec": {
   "display_name": "Python 3",
   "language": "python",
   "name": "python3"
  },
  "language_info": {
   "codemirror_mode": {
    "name": "ipython",
    "version": 3
   },
   "file_extension": ".py",
   "mimetype": "text/x-python",
   "name": "python",
   "nbconvert_exporter": "python",
   "pygments_lexer": "ipython3",
   "version": "3.6.4"
  }
 },
 "nbformat": 4,
 "nbformat_minor": 2
}
