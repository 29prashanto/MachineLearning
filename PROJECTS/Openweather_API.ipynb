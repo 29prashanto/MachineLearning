{
 "cells": [
  {
   "cell_type": "markdown",
   "metadata": {},
   "source": [
    "# Current weather of any city using openweather API"
   ]
  },
  {
   "cell_type": "code",
   "execution_count": 8,
   "metadata": {},
   "outputs": [],
   "source": [
    "import requests\n",
    "import json\n",
    "import pandas as pd\n",
    "from datetime import timedelta"
   ]
  },
  {
   "cell_type": "code",
   "execution_count": 9,
   "metadata": {},
   "outputs": [
    {
     "name": "stdout",
     "output_type": "stream",
     "text": [
      "Enter city name : jaipur\n"
     ]
    },
    {
     "data": {
      "text/plain": [
       "{'coord': {'lon': 75.82, 'lat': 26.92},\n",
       " 'weather': [{'id': 721,\n",
       "   'main': 'Haze',\n",
       "   'description': 'haze',\n",
       "   'icon': '50d'}],\n",
       " 'base': 'stations',\n",
       " 'main': {'temp': 294.15,\n",
       "  'pressure': 1019,\n",
       "  'humidity': 32,\n",
       "  'temp_min': 294.15,\n",
       "  'temp_max': 294.15},\n",
       " 'visibility': 2500,\n",
       " 'wind': {'speed': 2.1, 'deg': 180},\n",
       " 'clouds': {'all': 0},\n",
       " 'dt': 1547793000,\n",
       " 'sys': {'type': 1,\n",
       "  'id': 9170,\n",
       "  'message': 0.003,\n",
       "  'country': 'IN',\n",
       "  'sunrise': 1547776012,\n",
       "  'sunset': 1547814450},\n",
       " 'id': 1269515,\n",
       " 'name': 'Jaipur',\n",
       " 'cod': 200}"
      ]
     },
     "execution_count": 9,
     "metadata": {},
     "output_type": "execute_result"
    }
   ],
   "source": [
    "url = \"http://api.openweathermap.org/data/2.5/weather?\"\n",
    "city_name = input(\"Enter city name : \")\n",
    "complete_url = url + \"appid=\" + \"7f00fe11ceb1b5cc6a6ace720f0980c1\" + \"&q=\" +city_name\n",
    "res = requests.get(complete_url)\n",
    "response = res.json()\n",
    "response"
   ]
  },
  {
   "cell_type": "code",
   "execution_count": 11,
   "metadata": {},
   "outputs": [
    {
     "name": "stdout",
     "output_type": "stream",
     "text": [
      "Enter city name : jaipur\n",
      " Temperature (in celcius unit) = 24.0\n",
      " Atmospheric Pressure (in hPa unit) = 1016\n",
      " Humidity (in percentage) = 23\n",
      " Description = haze\n",
      " Sunrise = 2019-01-18 01:46:51\n",
      " Sunset = 2019-01-18 12:27:35\n"
     ]
    }
   ],
   "source": [
    "url = \"http://api.openweathermap.org/data/2.5/weather?\"\n",
    "city_name = input(\"Enter city name : \")\n",
    "complete_url = url + \"appid=\" + \"7f00fe11ceb1b5cc6a6ace720f0980c1\" + \"&q=\" +city_name\n",
    "res = requests.get(complete_url)\n",
    "response = res.json()\n",
    "if response[\"cod\"] != \"404\":\n",
    "    \n",
    "    current_temperature_kelvin = response[\"main\"][\"temp\"]\n",
    "    current_temperature_celcius = current_temperature_kelvin - 273.15\n",
    "    current_pressure = response[\"main\"][\"pressure\"]\n",
    "    current_humidity = response[\"main\"][\"humidity\"]\n",
    "    weather_description = response[\"weather\"][0][\"description\"]\n",
    "    sunrise_epoch = response[\"sys\"][\"sunrise\"]\n",
    "    sunset_epoch = response[\"sys\"][\"sunset\"]\n",
    "    sunrise = pd.to_datetime(sunrise_epoch , unit = 's')\n",
    "    sunset = pd.to_datetime(sunset_epoch , unit = 's')\n",
    "\n",
    "    \n",
    "    print(\" Temperature (in celcius unit) = \" + str(current_temperature_celcius) + \"\\n Atmospheric Pressure (in hPa unit) = \" + str(current_pressure) + \"\\n Humidity (in percentage) = \" + str(current_humidity) + \"\\n Description = \" + str(weather_description) + \"\\n Sunrise = \" + str(sunrise) + \"\\n Sunset = \" + str(sunset))\n",
    "\n",
    "else:\n",
    "    print(\"City Not Found\")\n",
    "    "
   ]
  },
  {
   "cell_type": "code",
   "execution_count": null,
   "metadata": {},
   "outputs": [],
   "source": []
  }
 ],
 "metadata": {
  "kernelspec": {
   "display_name": "Python 3",
   "language": "python",
   "name": "python3"
  },
  "language_info": {
   "codemirror_mode": {
    "name": "ipython",
    "version": 3
   },
   "file_extension": ".py",
   "mimetype": "text/x-python",
   "name": "python",
   "nbconvert_exporter": "python",
   "pygments_lexer": "ipython3",
   "version": "3.7.1"
  }
 },
 "nbformat": 4,
 "nbformat_minor": 2
}
