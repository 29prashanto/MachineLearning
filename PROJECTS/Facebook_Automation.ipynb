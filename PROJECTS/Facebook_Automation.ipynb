{
 "cells": [
  {
   "cell_type": "markdown",
   "metadata": {},
   "source": [
    "# Automatic facebook login using selenium\n"
   ]
  },
  {
   "cell_type": "code",
   "execution_count": null,
   "metadata": {},
   "outputs": [],
   "source": [
    "from selenium import webdriver \n",
    "from time import sleep\n",
    "from getpass import getpass\n",
    "  \n",
    "usr = input('Enter Email Id:')  \n",
    "pwd = getpass('Enter Password:')  \n",
    "  \n",
    "driver = webdriver.Chrome('./chromedriver') \n",
    "driver.get('https://www.facebook.com/') \n",
    "print (\"Opened facebook\") \n",
    "sleep(1) \n",
    "  \n",
    "username_box = driver.find_element_by_id('email') \n",
    "username_box.send_keys(usr) \n",
    "print (\"Email Id entered\") \n",
    "sleep(1) \n",
    "  \n",
    "password_box = driver.find_element_by_id('pass') \n",
    "password_box.send_keys(pwd) \n",
    "print (\"Password entered\") \n",
    "  \n",
    "login_box = driver.find_element_by_id('loginbutton') \n",
    "login_box.click() \n",
    "  \n",
    "print (\"Done\") \n",
    "input('Press anything to quit') \n",
    "driver.quit() \n",
    "print(\"Finished\") "
   ]
  }
 ],
 "metadata": {
  "kernelspec": {
   "display_name": "Python 3",
   "language": "python",
   "name": "python3"
  },
  "language_info": {
   "codemirror_mode": {
    "name": "ipython",
    "version": 3
   },
   "file_extension": ".py",
   "mimetype": "text/x-python",
   "name": "python",
   "nbconvert_exporter": "python",
   "pygments_lexer": "ipython3",
   "version": "3.7.1"
  }
 },
 "nbformat": 4,
 "nbformat_minor": 2
}
