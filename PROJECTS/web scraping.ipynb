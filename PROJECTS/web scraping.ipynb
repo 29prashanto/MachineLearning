{
 "cells": [
  {
   "cell_type": "code",
   "execution_count": 5,
   "metadata": {},
   "outputs": [
    {
     "name": "stdout",
     "output_type": "stream",
     "text": [
      "Provogue, Newport, SKMEI..\n",
      " Miss & Chief \n",
      "Skybags, American Tourister...\n",
      "Big Battery Zen mobiles!\n",
      "Water Bottles & more\n",
      "Headphones & Speakers\n",
      "Memory Cards, Hard Disks & More\n",
      "Lipsticks\n"
     ]
    }
   ],
   "source": [
    "import requests\n",
    "import bs4\n",
    "res=requests.get('https://www.flipkart.com')\n",
    "soup=bs4.BeautifulSoup(res.text , 'lxml')\n",
    "#print(res.text)\n",
    "container = soup.find_all(\"div\",{\"class\":\"iUmrbN\"})\n",
    "#print(container)\n",
    "for i in container:\n",
    "    print(i.text)"
   ]
  },
  {
   "cell_type": "code",
   "execution_count": 20,
   "metadata": {
    "scrolled": true
   },
   "outputs": [
    {
     "name": "stdout",
     "output_type": "stream",
     "text": [
      "Intex Jogger B Bluetooth Headset with Mic  -   ₹999\n",
      "Flipkart SmartBuy Rich Bass Wireless Bluetooth Headset ...  -   ₹1,099\n",
      "boAt Rockerz on ear 510 Bluetooth Headset with Mic  -   ₹2,199\n",
      "boAt Rockerz on ear 510 Bluetooth Headset with Mic  -   ₹2,199\n",
      "SoundLogic BTHP001PX_BK Bluetooth Headset with Mic  -   ₹999\n",
      "boAt Rockerz 400 Super Bass Bluetooth Headset with Mic  -   ₹1,640\n",
      "boAt Rockerz 400 Super Bass Bluetooth Headphone  -   ₹1,650\n",
      "boAt Rockerz 400 Super Extra Bass Bluetooth Headset wit...  -   ₹1,399\n",
      "boAt Rockerz 400 Super Extra Bass Bluetooth Headset wit...  -   ₹1,699\n",
      "Skullcandy Uproar Bluetooth Headset with Mic  -   ₹2,849\n",
      "Apple AirPods Bluetooth Headset with Mic  -   ₹11,999\n",
      "Sennheiser HD 4.40BT Bluetooth Headset with Mic  -   ₹7,394\n",
      "Skullcandy Uproar Bluetooth Headset with Mic  -   ₹3,009\n",
      "MarQ by Flipkart Active Noise Cancelling Bluetooth Head...  -   ₹4,999\n",
      "Sony XB650BT Bluetooth Headset with Mic  -   ₹6,299\n",
      "Envent BoomBud ET-BTHD001-BK Bluetooth Headset with Mic  -   ₹1,399\n",
      "Envent ET-BTHD001-BL Bluetooth Headset with Mic  -   ₹1,399\n",
      "Skullcandy Uproar Bluetooth Headset with Mic  -   ₹2,799\n",
      "Sony XB650BT Bluetooth Headset with Mic  -   ₹6,990\n",
      "Sony XB50 Bluetooth Headphone  -   ₹5,325\n",
      "Sony XB650BT Bluetooth Headset with Mic  -   ₹5,940\n",
      "Sony XB50 Bluetooth Headphone  -   ₹5,490\n",
      "Bose Soundsport Free Bluetooth Headset with Mic  -   ₹18,990\n",
      "SoundBot SB221 Black Wireless Bluetooth Bluetooth Heads...  -   ₹1,499\n",
      "Bose Soundsport Free Bluetooth Headset with Mic  -   ₹18,990\n",
      "Sony XB50 Bluetooth Headphone  -   ₹5,100\n",
      "Envent Moksha Active noise cancellation Bluetooth Heads...  -   ₹5,999\n",
      "Envent Livefit Bluetooth Headset with Mic  -   ₹1,999\n",
      "Bose Soundsport Free Bluetooth Headset with Mic  -   ₹18,990\n",
      "JBL E55BT Bluetooth Headset with Mic  -   ₹6,999\n",
      "Skullcandy Grind Bluetooth Headset with Mic  -   ₹4,999\n",
      "MarQ by Flipkart Active Noise Cancelling Bluetooth Head...  -   ₹4,999\n",
      "Sony XB80 Bluetooth Headset with Mic  -   ₹9,799\n",
      "SoundBot SB210 WIRELESS MUSICAL BEANIE Bluetooth Headse...  -   ₹2,499\n",
      "Envent Livefun 540 Bluetooth Headset with Mic  -   ₹1,399\n",
      "JBL E45BT Bluetooth Headset with Mic  -   ₹5,227\n",
      "Sennheiser RS 120-8 II Bluetooth Headphone  -   ₹8,168\n",
      "Sony XB950B1 Wired Headset with Mic  -   ₹12,990\n",
      "Sony XB950B1 Wired Headset with Mic  -   ₹10,842\n",
      "Philips SHB4000 On-the-ear Headset  -   ₹2,999\n"
     ]
    }
   ],
   "source": [
    "import requests\n",
    "import bs4\n",
    "res = requests.get('https://www.flipkart.com/audio-video/headphones/~musicathonwireless-headphones/pr?count=40&p%5B%5D=facets.availability%255B%255D%3DExclude%2BOut%2Bof%2BStock&sid=0pm%2Ffcn&otracker=clp_banner_1_3.bannerX3.BANNER_headphones-store_P5HQV05LL1&fm=neo%2Fmerchandising&iid=M_b9435531-f4b3-4c67-b016-9c29dac06100_1.P5HQV05LL1&ppt=CLP&ppn=CLP%3Atelevision-store')\n",
    "soup = bs4.BeautifulSoup(res.text , 'lxml')\n",
    "#print(soup.prettify)\n",
    "name = soup.find_all(\"a\",{\"class\":\"_2cLu-l\"})\n",
    "price=soup.find_all(\"div\",{\"class\":\"_1vC4OE\"})\n",
    "names=[]\n",
    "prices=[]\n",
    "for i in name:\n",
    "    names.append(i.text) \n",
    "for i in price:\n",
    "    prices.append(i.text)\n",
    "for i in range(len(names)):\n",
    "    print(names[i],end=\"  -   \")\n",
    "    print(prices[i])"
   ]
  },
  {
   "cell_type": "code",
   "execution_count": 21,
   "metadata": {},
   "outputs": [
    {
     "name": "stdout",
     "output_type": "stream",
     "text": [
      "82\n"
     ]
    }
   ],
   "source": [
    "import requests\n",
    "import bs4\n",
    "from PIL import Image\n",
    "res = requests.get('https://www.imdb.com/best-of/')\n",
    "soup = bs4.BeautifulSoup(res.text , 'lxml')\n",
    "img = soup.find_all('img')\n",
    "print(len(img))\n",
    "for i in range(len(img)):\n",
    "    try:\n",
    "        response = requests.get(img[i]['src'] , stream = True)\n",
    "        img_op = Image.open(response.raw)\n",
    "        img_op.save(r'/home/codetheocean/Documents/LCO/Images/{}.jpg'.format(str(i)))\n",
    "    except:\n",
    "        KeyError\n",
    "    else:\n",
    "        pass\n",
    "        "
   ]
  },
  {
   "cell_type": "code",
   "execution_count": 24,
   "metadata": {},
   "outputs": [
    {
     "name": "stdout",
     "output_type": "stream",
     "text": [
      "Enter your URL : https://www.imdb.com/gallery/rg1859820288?ref_=nv_tp_ph\n",
      "Number of Pics :  50\n"
     ]
    }
   ],
   "source": [
    "import requests\n",
    "import bs4\n",
    "from PIL import Image\n",
    "s = input(\"Enter your URL : \")\n",
    "res = requests.get(s)\n",
    "soup = bs4.BeautifulSoup(res.text , 'lxml')\n",
    "img = soup.find_all('img')\n",
    "print(\"Number of Pics : \" , len(img))\n",
    "for i in range(len(img)):\n",
    "    try:\n",
    "        response = requests.get(img[i]['src'] , stream = True)\n",
    "        img_op = Image.open(response.raw)\n",
    "        img_op.save(r'/home/codetheocean/Documents/LCO/Images/{}.jpg'.format(str(i)))\n",
    "    except:\n",
    "        KeyError\n",
    "    else:\n",
    "        pass\n",
    "        "
   ]
  },
  {
   "cell_type": "code",
   "execution_count": null,
   "metadata": {},
   "outputs": [],
   "source": []
  }
 ],
 "metadata": {
  "kernelspec": {
   "display_name": "Python 3",
   "language": "python",
   "name": "python3"
  },
  "language_info": {
   "codemirror_mode": {
    "name": "ipython",
    "version": 3
   },
   "file_extension": ".py",
   "mimetype": "text/x-python",
   "name": "python",
   "nbconvert_exporter": "python",
   "pygments_lexer": "ipython3",
   "version": "3.7.1"
  }
 },
 "nbformat": 4,
 "nbformat_minor": 2
}
