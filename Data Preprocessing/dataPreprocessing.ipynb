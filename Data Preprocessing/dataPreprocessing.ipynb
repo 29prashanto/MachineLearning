{
 "cells": [
  {
   "cell_type": "code",
   "execution_count": 1,
   "metadata": {},
   "outputs": [
    {
     "name": "stdout",
     "output_type": "stream",
     "text": [
      "['.ipynb_checkpoints', 'CleanupData.csv', 'dataPreprocessing.ipynb']\n"
     ]
    }
   ],
   "source": [
    "#check if you are in right directory\n",
    "import os\n",
    "print(os.listdir())"
   ]
  },
  {
   "cell_type": "code",
   "execution_count": 2,
   "metadata": {},
   "outputs": [],
   "source": [
    "#import required libraries\n",
    "import numpy as np\n",
    "import pandas as pd\n",
    "import matplotlib.pyplot as plt\n",
    "#plotting is visible\n",
    "%matplotlib inline"
   ]
  },
  {
   "cell_type": "code",
   "execution_count": 3,
   "metadata": {},
   "outputs": [],
   "source": [
    "#import dataset using pandas\n",
    "data = pd.read_csv('CleanupData.csv')"
   ]
  },
  {
   "cell_type": "code",
   "execution_count": 4,
   "metadata": {},
   "outputs": [
    {
     "data": {
      "text/html": [
       "<div>\n",
       "<style scoped>\n",
       "    .dataframe tbody tr th:only-of-type {\n",
       "        vertical-align: middle;\n",
       "    }\n",
       "\n",
       "    .dataframe tbody tr th {\n",
       "        vertical-align: top;\n",
       "    }\n",
       "\n",
       "    .dataframe thead th {\n",
       "        text-align: right;\n",
       "    }\n",
       "</style>\n",
       "<table border=\"1\" class=\"dataframe\">\n",
       "  <thead>\n",
       "    <tr style=\"text-align: right;\">\n",
       "      <th></th>\n",
       "      <th>State</th>\n",
       "      <th>Age</th>\n",
       "      <th>Pocket Money</th>\n",
       "      <th>Course Purchased</th>\n",
       "    </tr>\n",
       "  </thead>\n",
       "  <tbody>\n",
       "    <tr>\n",
       "      <th>0</th>\n",
       "      <td>Delhi</td>\n",
       "      <td>34.0</td>\n",
       "      <td>7200.0</td>\n",
       "      <td>No</td>\n",
       "    </tr>\n",
       "    <tr>\n",
       "      <th>1</th>\n",
       "      <td>Mumbai</td>\n",
       "      <td>17.0</td>\n",
       "      <td>4800.0</td>\n",
       "      <td>Yes</td>\n",
       "    </tr>\n",
       "    <tr>\n",
       "      <th>2</th>\n",
       "      <td>Banglore</td>\n",
       "      <td>20.0</td>\n",
       "      <td>5400.0</td>\n",
       "      <td>No</td>\n",
       "    </tr>\n",
       "    <tr>\n",
       "      <th>3</th>\n",
       "      <td>Mumbai</td>\n",
       "      <td>28.0</td>\n",
       "      <td>6100.0</td>\n",
       "      <td>No</td>\n",
       "    </tr>\n",
       "    <tr>\n",
       "      <th>4</th>\n",
       "      <td>Banglore</td>\n",
       "      <td>30.0</td>\n",
       "      <td>NaN</td>\n",
       "      <td>Yes</td>\n",
       "    </tr>\n",
       "    <tr>\n",
       "      <th>5</th>\n",
       "      <td>Delhi</td>\n",
       "      <td>25.0</td>\n",
       "      <td>5800.0</td>\n",
       "      <td>Yes</td>\n",
       "    </tr>\n",
       "    <tr>\n",
       "      <th>6</th>\n",
       "      <td>Mumbai</td>\n",
       "      <td>NaN</td>\n",
       "      <td>5200.0</td>\n",
       "      <td>No</td>\n",
       "    </tr>\n",
       "    <tr>\n",
       "      <th>7</th>\n",
       "      <td>Delhi</td>\n",
       "      <td>38.0</td>\n",
       "      <td>7900.0</td>\n",
       "      <td>Yes</td>\n",
       "    </tr>\n",
       "    <tr>\n",
       "      <th>8</th>\n",
       "      <td>Banglore</td>\n",
       "      <td>40.0</td>\n",
       "      <td>8300.0</td>\n",
       "      <td>No</td>\n",
       "    </tr>\n",
       "    <tr>\n",
       "      <th>9</th>\n",
       "      <td>Delhi</td>\n",
       "      <td>27.0</td>\n",
       "      <td>6700.0</td>\n",
       "      <td>Yes</td>\n",
       "    </tr>\n",
       "  </tbody>\n",
       "</table>\n",
       "</div>"
      ],
      "text/plain": [
       "      State   Age  Pocket Money Course Purchased\n",
       "0     Delhi  34.0        7200.0               No\n",
       "1    Mumbai  17.0        4800.0              Yes\n",
       "2  Banglore  20.0        5400.0               No\n",
       "3    Mumbai  28.0        6100.0               No\n",
       "4  Banglore  30.0           NaN              Yes\n",
       "5     Delhi  25.0        5800.0              Yes\n",
       "6    Mumbai   NaN        5200.0               No\n",
       "7     Delhi  38.0        7900.0              Yes\n",
       "8  Banglore  40.0        8300.0               No\n",
       "9     Delhi  27.0        6700.0              Yes"
      ]
     },
     "execution_count": 4,
     "metadata": {},
     "output_type": "execute_result"
    }
   ],
   "source": [
    "data\n"
   ]
  },
  {
   "cell_type": "code",
   "execution_count": 5,
   "metadata": {},
   "outputs": [
    {
     "name": "stdout",
     "output_type": "stream",
     "text": [
      "<class 'pandas.core.frame.DataFrame'>\n",
      "RangeIndex: 10 entries, 0 to 9\n",
      "Data columns (total 4 columns):\n",
      "State               10 non-null object\n",
      "Age                 9 non-null float64\n",
      "Pocket Money        9 non-null float64\n",
      "Course Purchased    10 non-null object\n",
      "dtypes: float64(2), object(2)\n",
      "memory usage: 400.0+ bytes\n"
     ]
    }
   ],
   "source": [
    "data.info()"
   ]
  },
  {
   "cell_type": "code",
   "execution_count": 6,
   "metadata": {},
   "outputs": [],
   "source": [
    "#get your independent and dependent matrix out of dataset\n",
    "X = data.iloc[: , :-1 ].values"
   ]
  },
  {
   "cell_type": "code",
   "execution_count": 7,
   "metadata": {},
   "outputs": [
    {
     "data": {
      "text/plain": [
       "array([['Delhi', 34.0, 7200.0],\n",
       "       ['Mumbai', 17.0, 4800.0],\n",
       "       ['Banglore', 20.0, 5400.0],\n",
       "       ['Mumbai', 28.0, 6100.0],\n",
       "       ['Banglore', 30.0, nan],\n",
       "       ['Delhi', 25.0, 5800.0],\n",
       "       ['Mumbai', nan, 5200.0],\n",
       "       ['Delhi', 38.0, 7900.0],\n",
       "       ['Banglore', 40.0, 8300.0],\n",
       "       ['Delhi', 27.0, 6700.0]], dtype=object)"
      ]
     },
     "execution_count": 7,
     "metadata": {},
     "output_type": "execute_result"
    }
   ],
   "source": [
    "#matrix of independent variable\n",
    "X"
   ]
  },
  {
   "cell_type": "code",
   "execution_count": 8,
   "metadata": {},
   "outputs": [],
   "source": [
    "#matrix of dependent variable\n",
    "y = data.iloc[: , 3].values"
   ]
  },
  {
   "cell_type": "code",
   "execution_count": 9,
   "metadata": {},
   "outputs": [
    {
     "data": {
      "text/plain": [
       "array(['No', 'Yes', 'No', 'No', 'Yes', 'Yes', 'No', 'Yes', 'No', 'Yes'],\n",
       "      dtype=object)"
      ]
     },
     "execution_count": 9,
     "metadata": {},
     "output_type": "execute_result"
    }
   ],
   "source": [
    "y"
   ]
  },
  {
   "cell_type": "code",
   "execution_count": 10,
   "metadata": {},
   "outputs": [],
   "source": [
    "# how to handle missing values"
   ]
  },
  {
   "cell_type": "code",
   "execution_count": 11,
   "metadata": {},
   "outputs": [],
   "source": [
    "from sklearn.preprocessing import Imputer\n",
    "imputer = Imputer(missing_values='NaN', strategy='mean', axis=0)\n",
    "imputer.fit(X[:, 1:3])\n",
    "X[:, 1:3] = imputer.transform(X[:, 1:3])"
   ]
  },
  {
   "cell_type": "code",
   "execution_count": 12,
   "metadata": {},
   "outputs": [
    {
     "data": {
      "text/plain": [
       "array([['Delhi', 34.0, 7200.0],\n",
       "       ['Mumbai', 17.0, 4800.0],\n",
       "       ['Banglore', 20.0, 5400.0],\n",
       "       ['Mumbai', 28.0, 6100.0],\n",
       "       ['Banglore', 30.0, 6377.777777777777],\n",
       "       ['Delhi', 25.0, 5800.0],\n",
       "       ['Mumbai', 28.77777777777778, 5200.0],\n",
       "       ['Delhi', 38.0, 7900.0],\n",
       "       ['Banglore', 40.0, 8300.0],\n",
       "       ['Delhi', 27.0, 6700.0]], dtype=object)"
      ]
     },
     "execution_count": 12,
     "metadata": {},
     "output_type": "execute_result"
    }
   ],
   "source": [
    "X"
   ]
  },
  {
   "cell_type": "code",
   "execution_count": 13,
   "metadata": {},
   "outputs": [
    {
     "data": {
      "text/plain": [
       "array([[1, 34.0, 7200.0],\n",
       "       [2, 17.0, 4800.0],\n",
       "       [0, 20.0, 5400.0],\n",
       "       [2, 28.0, 6100.0],\n",
       "       [0, 30.0, 6377.777777777777],\n",
       "       [1, 25.0, 5800.0],\n",
       "       [2, 28.77777777777778, 5200.0],\n",
       "       [1, 38.0, 7900.0],\n",
       "       [0, 40.0, 8300.0],\n",
       "       [1, 27.0, 6700.0]], dtype=object)"
      ]
     },
     "execution_count": 13,
     "metadata": {},
     "output_type": "execute_result"
    }
   ],
   "source": [
    "#handle categorical data in our data\n",
    "from sklearn.preprocessing import LabelEncoder\n",
    "labelencoder_X = LabelEncoder()\n",
    "X[:, 0] = labelencoder_X.fit_transform(X[:, 0])\n",
    "X"
   ]
  },
  {
   "cell_type": "code",
   "execution_count": 14,
   "metadata": {},
   "outputs": [
    {
     "data": {
      "text/plain": [
       "array([[   0.        ,    1.        ,    0.        ,   34.        ,\n",
       "        7200.        ],\n",
       "       [   0.        ,    0.        ,    1.        ,   17.        ,\n",
       "        4800.        ],\n",
       "       [   1.        ,    0.        ,    0.        ,   20.        ,\n",
       "        5400.        ],\n",
       "       [   0.        ,    0.        ,    1.        ,   28.        ,\n",
       "        6100.        ],\n",
       "       [   1.        ,    0.        ,    0.        ,   30.        ,\n",
       "        6377.77777778],\n",
       "       [   0.        ,    1.        ,    0.        ,   25.        ,\n",
       "        5800.        ],\n",
       "       [   0.        ,    0.        ,    1.        ,   28.77777778,\n",
       "        5200.        ],\n",
       "       [   0.        ,    1.        ,    0.        ,   38.        ,\n",
       "        7900.        ],\n",
       "       [   1.        ,    0.        ,    0.        ,   40.        ,\n",
       "        8300.        ],\n",
       "       [   0.        ,    1.        ,    0.        ,   27.        ,\n",
       "        6700.        ]])"
      ]
     },
     "execution_count": 14,
     "metadata": {},
     "output_type": "execute_result"
    }
   ],
   "source": [
    "#create dummy matrix for categorical dataset\n",
    "from sklearn.preprocessing import OneHotEncoder\n",
    "onehotencoder = OneHotEncoder(categorical_features=[0])\n",
    "X = onehotencoder.fit_transform(X).toarray()\n",
    "np.set_printoptions(suppress=True)\n",
    "X"
   ]
  },
  {
   "cell_type": "code",
   "execution_count": 16,
   "metadata": {},
   "outputs": [
    {
     "data": {
      "text/plain": [
       "array(['No', 'Yes', 'No', 'No', 'Yes', 'Yes', 'No', 'Yes', 'No', 'Yes'],\n",
       "      dtype=object)"
      ]
     },
     "execution_count": 16,
     "metadata": {},
     "output_type": "execute_result"
    }
   ],
   "source": [
    "y"
   ]
  },
  {
   "cell_type": "code",
   "execution_count": 17,
   "metadata": {},
   "outputs": [
    {
     "data": {
      "text/plain": [
       "array([0, 1, 0, 0, 1, 1, 0, 1, 0, 1])"
      ]
     },
     "execution_count": 17,
     "metadata": {},
     "output_type": "execute_result"
    }
   ],
   "source": [
    "#handle y matrix for categorical data\n",
    "labelencoder_y = LabelEncoder()\n",
    "y = labelencoder_y.fit_transform(y)\n",
    "y"
   ]
  },
  {
   "cell_type": "code",
   "execution_count": 18,
   "metadata": {},
   "outputs": [],
   "source": [
    "#prepare test and training data set\n",
    "# split our data into 2 parts, one will be training and other will be test\n",
    "\n",
    "from sklearn.cross_validation import train_test_split\n",
    "#NOTE - there might be a deprication warning here\n",
    "#instead of above import, use this\n",
    "#from sklearn.model_selection import train_test_split\n",
    "\n",
    "X_train, X_test, y_train, y_test = train_test_split(X, y, test_size=0.2)"
   ]
  },
  {
   "cell_type": "code",
   "execution_count": 19,
   "metadata": {},
   "outputs": [
    {
     "data": {
      "text/plain": [
       "array([[   1.        ,    0.        ,    0.        ,   40.        ,\n",
       "        8300.        ],\n",
       "       [   0.        ,    0.        ,    1.        ,   17.        ,\n",
       "        4800.        ],\n",
       "       [   1.        ,    0.        ,    0.        ,   30.        ,\n",
       "        6377.77777778],\n",
       "       [   0.        ,    0.        ,    1.        ,   28.77777778,\n",
       "        5200.        ],\n",
       "       [   0.        ,    1.        ,    0.        ,   27.        ,\n",
       "        6700.        ],\n",
       "       [   0.        ,    0.        ,    1.        ,   28.        ,\n",
       "        6100.        ],\n",
       "       [   0.        ,    1.        ,    0.        ,   38.        ,\n",
       "        7900.        ],\n",
       "       [   0.        ,    1.        ,    0.        ,   34.        ,\n",
       "        7200.        ]])"
      ]
     },
     "execution_count": 19,
     "metadata": {},
     "output_type": "execute_result"
    }
   ],
   "source": [
    "X_train"
   ]
  },
  {
   "cell_type": "code",
   "execution_count": 21,
   "metadata": {},
   "outputs": [
    {
     "data": {
      "text/plain": [
       "array([1, 0])"
      ]
     },
     "execution_count": 21,
     "metadata": {},
     "output_type": "execute_result"
    }
   ],
   "source": [
    "y_test"
   ]
  },
  {
   "cell_type": "code",
   "execution_count": 22,
   "metadata": {},
   "outputs": [],
   "source": [
    "#Feature scaling\n",
    "#Standard deviation or Normalization\n",
    "\n",
    "from sklearn.preprocessing import StandardScaler\n",
    "scale_X = StandardScaler()\n",
    "X_train = scale_X.fit_transform(X_train)\n",
    "X_test = scale_X.transform(X_test)"
   ]
  },
  {
   "cell_type": "code",
   "execution_count": 23,
   "metadata": {},
   "outputs": [
    {
     "data": {
      "text/plain": [
       "array([[ 1.73205081, -0.77459667, -0.77459667,  1.43392268,  1.51222312],\n",
       "       [-0.57735027, -0.77459667,  1.29099445, -1.98273337, -1.55112275],\n",
       "       [ 1.73205081, -0.77459667, -0.77459667, -0.05157995, -0.17018588],\n",
       "       [-0.57735027, -0.77459667,  1.29099445, -0.23314138, -1.20102608],\n",
       "       [-0.57735027,  1.29099445, -0.77459667, -0.49723074,  0.11183644],\n",
       "       [-0.57735027, -0.77459667,  1.29099445, -0.34868048, -0.41330857],\n",
       "       [-0.57735027,  1.29099445, -0.77459667,  1.13682215,  1.16212645],\n",
       "       [-0.57735027,  1.29099445, -0.77459667,  0.5426211 ,  0.54945728]])"
      ]
     },
     "execution_count": 23,
     "metadata": {},
     "output_type": "execute_result"
    }
   ],
   "source": [
    "X_train"
   ]
  },
  {
   "cell_type": "code",
   "execution_count": null,
   "metadata": {},
   "outputs": [],
   "source": []
  }
 ],
 "metadata": {
  "kernelspec": {
   "display_name": "Python 3",
   "language": "python",
   "name": "python3"
  },
  "language_info": {
   "codemirror_mode": {
    "name": "ipython",
    "version": 3
   },
   "file_extension": ".py",
   "mimetype": "text/x-python",
   "name": "python",
   "nbconvert_exporter": "python",
   "pygments_lexer": "ipython3",
   "version": "3.7.1"
  }
 },
 "nbformat": 4,
 "nbformat_minor": 2
}
